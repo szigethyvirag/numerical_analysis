{
 "cells": [
  {
   "cell_type": "markdown",
   "metadata": {},
   "source": [
    "Exercise 1"
   ]
  },
  {
   "cell_type": "code",
   "execution_count": 56,
   "metadata": {},
   "outputs": [],
   "source": [
    "def newtons_method(function, derivative_function, xk, precision):\n",
    "    iteration_num = 0\n",
    "    f_value = -1\n",
    "    while precision < abs(f_value):\n",
    "        f_value = function[0] * xk **3 + function[1] * xk **2 + function[2] * xk +  function[3]\n",
    "        df_value = derivative_function[0] * xk **3 + derivative_function[1] * xk **2 + derivative_function[2] * xk +  derivative_function[3]\n",
    "        xk = xk - f_value/df_value\n",
    "        iteration_num += 1\n",
    "    return xk, iteration_num \n",
    "\n",
    "def secant_method(function, x0, x1, precision): #xj = x(k-1)\n",
    "    iteration_num = 0\n",
    "    fk_value = -1\n",
    "    xk = x1\n",
    "    xj = x0\n",
    "    while precision < abs(fk_value):\n",
    "        fk_value = function[0] * xk **3 + function[1] * xk **2 + function[2] * xk +  function[3]\n",
    "        fj_value = function[0] * xj **3 + function[1] * xj **2 + function[2] * xj +  function[3]\n",
    "        xnew = xk - fk_value*(xk-xj)/(fk_value-fj_value)\n",
    "        xj = xk\n",
    "        xk = xnew\n",
    "        iteration_num += 1\n",
    "    return xk, iteration_num \n",
    "\n",
    "def bisection_method(function, left_staring_point, right_starting_point, precision):\n",
    "    iteration_num = 0\n",
    "    fk_value = -1\n",
    "    ak = left_staring_point\n",
    "    bk = right_starting_point\n",
    "    ck = ck = (ak + bk)/2\n",
    "    fck_value = function[0] * ck **3 + function[1] * ck **2 + function[2] * ck +  function[3]\n",
    "    while precision < abs(fck_value):\n",
    "        fbk_value = function[0] * bk **3 + function[1] * bk **2 + function[2] * bk +  function[3]\n",
    "        fck_value = function[0] * ck **3 + function[1] * ck **2 + function[2] * ck +  function[3]\n",
    "        if fbk_value * fck_value > 0:\n",
    "            bk = ck\n",
    "        else: \n",
    "            ak = ck\n",
    "        ck = (ak + bk)/2\n",
    "        iteration_num += 1\n",
    "    return ck, iteration_num "
   ]
  },
  {
   "cell_type": "markdown",
   "metadata": {},
   "source": [
    "Exercise 2:"
   ]
  },
  {
   "cell_type": "code",
   "execution_count": 2,
   "metadata": {},
   "outputs": [
    {
     "name": "stdout",
     "output_type": "stream",
     "text": [
      "(1.3688081078213745, 4)\n"
     ]
    }
   ],
   "source": [
    "f = [1, 2, 10, -20]\n",
    "df = [0, 3, 4, 10]\n",
    "x0 = 1\n",
    "\n",
    "print(newtons_method(f,df,x0,0.0001))"
   ]
  },
  {
   "cell_type": "code",
   "execution_count": 3,
   "metadata": {},
   "outputs": [
    {
     "name": "stdout",
     "output_type": "stream",
     "text": [
      "(1.3688081077828753, 5)\n"
     ]
    }
   ],
   "source": [
    "f = [1, 2, 10, -20]\n",
    "x0 = 1\n",
    "x1 = 2\n",
    "\n",
    "print(secant_method(f,x0,x1,0.0001))"
   ]
  },
  {
   "cell_type": "code",
   "execution_count": 4,
   "metadata": {},
   "outputs": [
    {
     "name": "stdout",
     "output_type": "stream",
     "text": [
      "(1.3688201904296875, 15)\n"
     ]
    }
   ],
   "source": [
    "f = [1, 2, 10, -20]\n",
    "x0 = 1\n",
    "x1 = 2\n",
    "\n",
    "print(bisection_method(f,x0,x1,0.0001))"
   ]
  },
  {
   "cell_type": "markdown",
   "metadata": {},
   "source": [
    "Exercise 3:"
   ]
  },
  {
   "cell_type": "code",
   "execution_count": null,
   "metadata": {},
   "outputs": [],
   "source": [
    "import math"
   ]
  },
  {
   "cell_type": "code",
   "execution_count": 5,
   "metadata": {},
   "outputs": [],
   "source": [
    "def df(x):\n",
    "    return 1 - math.tanh(x)**2\n",
    "\n",
    "#eps = 0.35\n",
    "\n",
    "def newtons_method_(function, derivative_function, xk, precision):\n",
    "    iteration_num = 0\n",
    "    f_value = function(xk)\n",
    "    while precision < abs(f_value):\n",
    "        f_value = function(xk)\n",
    "        df_value = df(xk)\n",
    "        if df_value == 0:\n",
    "            return \"Division by 0 can not be executed :((\"\n",
    "        xk = xk - f_value/(df_value) \n",
    "        #xk = xk - f_value/(df_value + eps) -> ez így nem akart jól működni :(\n",
    "        iteration_num += 1\n",
    "        \n",
    "    return xk, iteration_num\n",
    "\n",
    "def secant_method_(function, x0, x1, precision): #xj = x(k-1)\n",
    "    iteration_num = 0\n",
    "    fk_value = -1\n",
    "    xk = x1\n",
    "    xj = x0\n",
    "    while precision < abs(fk_value):\n",
    "        fk_value = function(xk)\n",
    "        fj_value = function(xj)\n",
    "        if fk_value-fj_value == 0:\n",
    "            return \"Division by 0 can not be executed :((\"\n",
    "        xnew = xk - fk_value*(xk-xj)/(fk_value-fj_value) \n",
    "        #xnew = xk - fk_value*(xk-xj)/(fk_value-fj_value + eps) -> same :(\n",
    "        xj = xk\n",
    "        xk = xnew\n",
    "        iteration_num += 1\n",
    "    return xk, iteration_num\n",
    "\n",
    "def bisection_method_(function, left_staring_point, right_starting_point, precision):\n",
    "    iteration_num = 0\n",
    "    fk_value = -1\n",
    "    ak = left_staring_point\n",
    "    bk = right_starting_point\n",
    "    ck = ck = (ak + bk)/2\n",
    "    fck_value = function(ck)\n",
    "    while precision < abs(fck_value):\n",
    "        #print(ck)\n",
    "        fbk_value = function(bk)\n",
    "        fck_value = function(ck)\n",
    "        if fbk_value * fck_value > 0:\n",
    "            bk = ck\n",
    "        else: \n",
    "            ak = ck\n",
    "        ck = (ak + bk)/(2)\n",
    "        iteration_num += 1\n",
    "        #print(fbk_value)\n",
    "        #print(fck_value)\n",
    "        if iteration_num == 150:\n",
    "            return \"probably infinite loop :(\"\n",
    "    return ck, iteration_num"
   ]
  },
  {
   "cell_type": "code",
   "execution_count": 6,
   "metadata": {},
   "outputs": [
    {
     "name": "stdout",
     "output_type": "stream",
     "text": [
      "Division by 0 can not be executed :((\n"
     ]
    }
   ],
   "source": [
    "f = math.tanh\n",
    "x0 = -5\n",
    "print(newtons_method_(f,df,x0,0.0001))"
   ]
  },
  {
   "cell_type": "code",
   "execution_count": 7,
   "metadata": {},
   "outputs": [
    {
     "name": "stdout",
     "output_type": "stream",
     "text": [
      "Division by 0 can not be executed :((\n"
     ]
    }
   ],
   "source": [
    "f = math.tanh\n",
    "x0 = -5\n",
    "x1 = -4\n",
    "\n",
    "print(secant_method_(f,x0,x1,0.0001))"
   ]
  },
  {
   "cell_type": "code",
   "execution_count": 8,
   "metadata": {},
   "outputs": [
    {
     "name": "stdout",
     "output_type": "stream",
     "text": [
      "probably infinite loop :(\n"
     ]
    }
   ],
   "source": [
    "f = math.tanh\n",
    "x0 = 5\n",
    "x1 = 10\n",
    "print(bisection_method_(f,x0,x1,0.0001))"
   ]
  },
  {
   "cell_type": "markdown",
   "metadata": {},
   "source": [
    "Exercise 4:"
   ]
  },
  {
   "cell_type": "code",
   "execution_count": 64,
   "metadata": {},
   "outputs": [],
   "source": [
    "import numpy as np\n",
    "\n",
    "def g(x):\n",
    "    return 20/(x**2 + 2*x + 10) \n",
    "\n",
    "def dg(x):\n",
    "    return -40*(x+1)/(x**2 + 2*x + 10)**2\n",
    "\n",
    "def simple_iteration(function, x0, precision):\n",
    "    L = np.abs(dg(1)) #chose 1 because of looking at the derivated function\n",
    "    eps = precision\n",
    "    x1 = function(x0)\n",
    "    k0 = np.floor((np.log(np.abs(x0-x1))-np.log(eps*(1-L)))/np.log(1/L)) + 1\n",
    "    print('k0 num:' + str(k0))\n",
    "    g_value = function(x0)\n",
    "    iteration_num = 0\n",
    "\n",
    "    while precision < abs(function(x0) - x0):\n",
    "        x0 = function(x0)\n",
    "        iteration_num += 1\n",
    "    return round(x0,4), iteration_num\n",
    "    \n",
    "\n"
   ]
  },
  {
   "cell_type": "code",
   "execution_count": 65,
   "metadata": {},
   "outputs": [
    {
     "name": "stdout",
     "output_type": "stream",
     "text": [
      "k0 num:13.0\n",
      "(1.3689, 11)\n"
     ]
    }
   ],
   "source": [
    "print(simple_iteration(g, 1, 0.0001)) "
   ]
  },
  {
   "cell_type": "markdown",
   "metadata": {},
   "source": [
    "The theoretical criteria should be pessimistic, but with 4 decimal places, it can not be seen, since both k0 and my iteration number turned out to be 11."
   ]
  }
 ],
 "metadata": {
  "kernelspec": {
   "display_name": "Python 3.9.7 ('base')",
   "language": "python",
   "name": "python3"
  },
  "language_info": {
   "codemirror_mode": {
    "name": "ipython",
    "version": 3
   },
   "file_extension": ".py",
   "mimetype": "text/x-python",
   "name": "python",
   "nbconvert_exporter": "python",
   "pygments_lexer": "ipython3",
   "version": "3.9.7"
  },
  "orig_nbformat": 4,
  "vscode": {
   "interpreter": {
    "hash": "644e1d14a76719232cbb3080fed54eb06c88bc7de058709a8a324bc48b928246"
   }
  }
 },
 "nbformat": 4,
 "nbformat_minor": 2
}
