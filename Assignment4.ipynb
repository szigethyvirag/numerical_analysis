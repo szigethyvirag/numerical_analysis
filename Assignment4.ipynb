{
 "cells": [
  {
   "cell_type": "code",
   "execution_count": 162,
   "metadata": {},
   "outputs": [],
   "source": [
    "import numpy as np\n",
    "from scipy.sparse import diags\n"
   ]
  },
  {
   "attachments": {},
   "cell_type": "markdown",
   "metadata": {},
   "source": [
    "A:"
   ]
  },
  {
   "cell_type": "code",
   "execution_count": 163,
   "metadata": {},
   "outputs": [
    {
     "name": "stdout",
     "output_type": "stream",
     "text": [
      "[[ 242. -121.    0.    0.    0.    0.    0.    0.    0.    0.]\n",
      " [-121.  242. -121.    0.    0.    0.    0.    0.    0.    0.]\n",
      " [   0. -121.  242. -121.    0.    0.    0.    0.    0.    0.]\n",
      " [   0.    0. -121.  242. -121.    0.    0.    0.    0.    0.]\n",
      " [   0.    0.    0. -121.  242. -121.    0.    0.    0.    0.]\n",
      " [   0.    0.    0.    0. -121.  242. -121.    0.    0.    0.]\n",
      " [   0.    0.    0.    0.    0. -121.  242. -121.    0.    0.]\n",
      " [   0.    0.    0.    0.    0.    0. -121.  242. -121.    0.]\n",
      " [   0.    0.    0.    0.    0.    0.    0. -121.  242. -121.]\n",
      " [   0.    0.    0.    0.    0.    0.    0.    0. -121.  242.]]\n"
     ]
    }
   ],
   "source": [
    "def A(n):\n",
    "    sp = diags([[2]*n,-1,-1],[0,1,-1])\n",
    "    sp = sp.toarray()\n",
    "\n",
    "    sp = (n+1)**2 * sp\n",
    "    print(sp)\n",
    "    return sp\n",
    "A = A(10)\n"
   ]
  },
  {
   "cell_type": "code",
   "execution_count": 164,
   "metadata": {},
   "outputs": [],
   "source": [
    "def eigenvalues(A):\n",
    "    n = A.shape[0]\n",
    "    eigs = []\n",
    "    for k in range(1, n+1):\n",
    "        eigs.append(4*(n+1)**2*np.sin(k*np.pi/(2*(n+1)))**2)\n",
    "    print(np.sort(eigs))\n",
    "    return np.sort(eigs)\n"
   ]
  },
  {
   "cell_type": "code",
   "execution_count": 165,
   "metadata": {},
   "outputs": [],
   "source": [
    "def QR(A):\n",
    "    Q = np.eye(A.shape[0])\n",
    "    R = A\n",
    "    for k in range(A.shape[1]):\n",
    "        x = R[k:, k]\n",
    "        e = np.zeros(len(x))\n",
    "        e[0] = 1\n",
    "        v = np.sign(x[0]) * np.linalg.norm(x) * e + x\n",
    "        v = v / np.linalg.norm(v)\n",
    "        Qk = np.eye(A.shape[0])\n",
    "        Qk[k:, k:] -= 2 * np.outer(v, v)\n",
    "        Q = Q @ Qk\n",
    "        R = Qk @ R\n",
    "        \n",
    "    return Q, R"
   ]
  },
  {
   "cell_type": "code",
   "execution_count": 166,
   "metadata": {},
   "outputs": [],
   "source": [
    "def eigenvalue_calculation(A, tolerance):\n",
    "    A_tmp = A\n",
    "    eigs = []\n",
    "    while(1 < A_tmp.shape[0]):\n",
    "\n",
    "        while(tolerance < abs(A_tmp[-2,-1])):\n",
    "            mu = A_tmp[-1,-1]+tolerance\n",
    "            A_tmp = A_tmp-(mu*np.eye(A_tmp.shape[0]))\n",
    "            Q,R = QR(A_tmp)\n",
    "            A_tmp = R@Q + (mu*np.eye(A_tmp.shape[0]))\n",
    "\n",
    "        eigs.append(A_tmp[-1,-1])\n",
    "        A_tmp = A_tmp[:-1,:-1]\n",
    "\n",
    "        if (A_tmp.shape[0] == 1):\n",
    "            eigs.append(A_tmp[0][0])\n",
    "    print(np.sort(eigs))\n",
    "    return np.sort(eigs)\n"
   ]
  },
  {
   "cell_type": "code",
   "execution_count": 167,
   "metadata": {},
   "outputs": [
    {
     "name": "stdout",
     "output_type": "stream",
     "text": [
      "[  9.80270039  38.41664505  83.52370239 141.46956685 207.55980914\n",
      " 276.44019086 342.53043315 400.47629761 445.58335495 474.19729961]\n",
      "[  9.80270039  38.41664505  83.52370239 141.46956685 207.55980914\n",
      " 276.44019086 342.53043315 400.47629761 445.58335495 474.19729961]\n",
      "Yay, we got the same eigenvalues :)\n"
     ]
    }
   ],
   "source": [
    "tolerance = 1e-8\n",
    "eigs_by_iter = eigenvalue_calculation(A, tolerance)\n",
    "eigs_by_equ = eigenvalues(A)\n",
    "\n",
    "print('Yay, we got the same eigenvalues :)' if (np.max(np.abs(eigs_by_iter - eigs_by_equ)) < tolerance) else 'Try again :(')"
   ]
  }
 ],
 "metadata": {
  "kernelspec": {
   "display_name": "Python 3.9.7 ('base')",
   "language": "python",
   "name": "python3"
  },
  "language_info": {
   "codemirror_mode": {
    "name": "ipython",
    "version": 3
   },
   "file_extension": ".py",
   "mimetype": "text/x-python",
   "name": "python",
   "nbconvert_exporter": "python",
   "pygments_lexer": "ipython3",
   "version": "3.9.7"
  },
  "orig_nbformat": 4,
  "vscode": {
   "interpreter": {
    "hash": "644e1d14a76719232cbb3080fed54eb06c88bc7de058709a8a324bc48b928246"
   }
  }
 },
 "nbformat": 4,
 "nbformat_minor": 2
}
