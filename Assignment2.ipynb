{
 "cells": [
  {
   "cell_type": "markdown",
   "metadata": {},
   "source": [
    "Exercise 1"
   ]
  },
  {
   "cell_type": "code",
   "execution_count": 91,
   "metadata": {},
   "outputs": [],
   "source": [
    "import numpy as np\n",
    "import math\n",
    "import matplotlib.pyplot as plt"
   ]
  },
  {
   "cell_type": "code",
   "execution_count": 111,
   "metadata": {},
   "outputs": [],
   "source": [
    "def  midpoint_rule(integrand, left_end, right_end, num_subint):\n",
    "    h = (right_end - left_end)/num_subint\n",
    "    x = []\n",
    "    w = []\n",
    "    f = []\n",
    "    for i in range(num_subint):\n",
    "        xi = (i + 0.5) * h\n",
    "        x.append(xi)\n",
    "        w.append(h)\n",
    "        f.append(integrand(xi))\n",
    "    return h, sum([f_i * w_i for f_i, w_i in zip(f, w)])\n",
    "\n",
    "def  trapezoidal_rule(integrand, left_end, right_end, num_subint):\n",
    "    h = (right_end - left_end)/num_subint\n",
    "    x = []\n",
    "    w = []\n",
    "    f = []\n",
    "    for i in range(num_subint + 1):\n",
    "        xi = i * h\n",
    "        x.append(xi)\n",
    "        if i == 0 or i == num_subint + 1: w.append(h/2)\n",
    "        else: w.append(h)\n",
    "        f.append(integrand(xi))\n",
    "    return h, sum([f_i * w_i for f_i, w_i in zip(f, w)])\n",
    "\n",
    "\n",
    "def Simpsons_rule(integrand, left_end, right_end, num_subint):\n",
    "    h = (right_end - left_end)/num_subint\n",
    "    x = []\n",
    "    w = []\n",
    "    f = []\n",
    "    for i in range(2 * num_subint - 2):\n",
    "        xi = i * h\n",
    "        x.append(xi)\n",
    "        if i == 0 or i == (2*num_subint-2): w.append(h/6)\n",
    "        elif i % 2 == 0: w.append(2*h/6)\n",
    "        else: w.append(4*h/6)\n",
    "        f.append(integrand(xi))\n",
    "    return h, sum([f_i * w_i for f_i, w_i in zip(f, w)])"
   ]
  },
  {
   "cell_type": "code",
   "execution_count": 67,
   "metadata": {},
   "outputs": [
    {
     "name": "stdout",
     "output_type": "stream",
     "text": [
      "1.0000102809119051\n",
      "1.0078334198735823\n",
      "0.9996710473460491\n"
     ]
    }
   ],
   "source": [
    "\n",
    "h, comp = midpoint_rule(math.sin, 0, math.pi/2, 100)\n",
    "print(comp)\n",
    "h, trap = trapezoidal_rule(math.sin, 0, math.pi/2, 100)\n",
    "print(trap)\n",
    "h, Sim = Simpsons_rule(math.sin, 0, math.pi/2, 100)\n",
    "print(Sim)"
   ]
  },
  {
   "cell_type": "code",
   "execution_count": 134,
   "metadata": {},
   "outputs": [
    {
     "name": "stdout",
     "output_type": "stream",
     "text": [
      "<function midpoint_rule at 0x00000217F9953430>\n",
      "[2.080820905649401, 2.01964579588489, 2.004877865051448, 2.001217387840837, 2.000304217378344, 2.000076046240955, 2.000019011102546, 2.0000047523457476, 2.000001188675972, 2.0000003054904956, 2.000000111087469, 2.0000000914838045, 1.9999991635768612, 1.9999918448998117, 1.9999539977341825]\n",
      "<function trapezoidal_rule at 0x00000217F9953040>\n",
      "[0.744226276359906, 0.8932422230797605, 0.9501165876903148, 0.9757718970468693, 0.9880468879603295, 0.9940616277930984, 0.9970401109249569, 0.998522349047689, 0.9992617441131555, 0.9996310139804284, 0.9998155424113442, 0.9999077800583376, 0.9999538921949644, 0.9999769467135494, 0.9999884735099502]\n",
      "<function Simpsons_rule at 0x00000217F99531F0>\n",
      "[0.6671265300079886, 1.709105740505091, 1.929184100906726, 1.9824080459788842, 1.9956089100790138, 1.998902657111001, 1.9997256910995769, 1.999931424469718, 1.9999828562025637, 1.9999957139707978, 1.9999989294550904, 1.9999997255485573, 2.0000000743305937, 2.0000005423684053, 1.9999988368487305]\n"
     ]
    },
    {
     "data": {
      "text/plain": [
       "Text(0, 0.5, 'errors')"
      ]
     },
     "execution_count": 134,
     "metadata": {},
     "output_type": "execute_result"
    },
    {
     "data": {
      "image/png": "[encoded data removed]",
      "text/plain": [
       "<Figure size 432x288 with 1 Axes>"
      ]
     },
     "metadata": {
      "needs_background": "light"
     },
     "output_type": "display_data"
    }
   ],
   "source": [
    "functions = [midpoint_rule, trapezoidal_rule, Simpsons_rule]\n",
    "#plt.figure()\n",
    "for f in functions:\n",
    "    err_comp = []\n",
    "    h_comp = []\n",
    "    r_comp = []\n",
    "    for i in range(15):\n",
    "        h1, comp1 = f(math.sin, 0, math.pi/2, pow(2,i))\n",
    "        h2, comp2 = f(math.sin, 0, math.pi/2, (pow(2,i)*2))\n",
    "        r1 = math.log2((1 - comp1) / (1 - comp2))\n",
    "        r_comp.append(r1)\n",
    "        h_comp.append(h1)\n",
    "        err_comp.append(abs(1-comp1))\n",
    "\n",
    "    print(str(f))\n",
    "    print(r_comp)\n",
    "    plt.loglog(h_comp, err_comp) #label does not work :(\n",
    "    #blue line: midpoint, orange line: tapezoidal, green line: Simpsons rule\n",
    " #???\n",
    "plt.legend(['midpoint_rule', 'trapezoidal_rule', 'Simpsons_rule'], loc=4)\n",
    "plt.xlabel('h')\n",
    "plt.ylabel('errors')\n",
    "#ezt ctrl c ctrl v-zni kéne a másik kettő cucchoz is"
   ]
  },
  {
   "cell_type": "markdown",
   "metadata": {},
   "source": [
    "In case of midpoint rule and Simpsons rule, r converges to 2\n",
    "In case of trapezoidal rule, r converges to 1"
   ]
  },
  {
   "cell_type": "code",
   "execution_count": 63,
   "metadata": {},
   "outputs": [],
   "source": [
    "def  bad_trapezoidal_rule(integrand, left_end, right_end, num_subint):\n",
    "    h = (right_end - left_end)/num_subint\n",
    "    x = []\n",
    "    w = []\n",
    "    f = []\n",
    "    for i in range(num_subint + 1):\n",
    "        xi = i * h\n",
    "        x.append(xi)\n",
    "        w.append(h)\n",
    "        f.append(integrand(xi))\n",
    "    return h, sum([f_i * w_i for f_i, w_i in zip(f, w)])"
   ]
  },
  {
   "cell_type": "code",
   "execution_count": 64,
   "metadata": {},
   "outputs": [
    {
     "name": "stdout",
     "output_type": "stream",
     "text": [
      "[0.744226276359906, 0.8932422230797605, 0.9501165876903148, 0.9757718970468693, 0.9880468879603295, 0.9940616277930984, 0.9970401109249569, 0.998522349047689, 0.9992617441131555, 0.9996310139804284]\n"
     ]
    }
   ],
   "source": [
    "err_trap = []\n",
    "h_trap = []\n",
    "r_trap = []\n",
    "for i in range(10):\n",
    "    h1, trap1 = bad_trapezoidal_rule(math.sin, 0, math.pi/2, pow(2,i))\n",
    "    h2, trap2 = bad_trapezoidal_rule(math.sin, 0, math.pi/2, (pow(2,i)*2))\n",
    "    r1 = math.log2((1 - trap1) / (1 - trap2))\n",
    "    r_trap.append(r1)\n",
    "    h_trap.append(h1)\n",
    "    #err_comp.append(abs(1-comp1))\n",
    "\n",
    "print(r_trap)"
   ]
  },
  {
   "cell_type": "markdown",
   "metadata": {},
   "source": [
    "It also converges to 1"
   ]
  },
  {
   "cell_type": "markdown",
   "metadata": {},
   "source": [
    "Exercise 2:"
   ]
  },
  {
   "cell_type": "code",
   "execution_count": 94,
   "metadata": {},
   "outputs": [],
   "source": [
    "def Euler_method(y0, T, N):\n",
    "    h = T / N\n",
    "    t = 0\n",
    "    y = y0\n",
    "    t_all = [t]\n",
    "    y_all = [y]\n",
    "    while t < T:\n",
    "        y += h * (y - y**3)\n",
    "        t += h\n",
    "        t_all.append(t)\n",
    "        y_all.append(y)\n",
    "    return t_all, y_all\n",
    "\n",
    "def backward_Euler_method(y0, T, N):\n",
    "    h = T / N\n",
    "    t = 0\n",
    "    y = y0\n",
    "    t_all = [t]\n",
    "    y_all = [y]\n",
    "    while t < T:\n",
    "        approx_y = y + h * (y - y**3)\n",
    "        y += h * (approx_y - approx_y**3)\n",
    "        t += h\n",
    "        t_all.append(t)\n",
    "        y_all.append(y)\n",
    "    return t_all, y_all\n",
    "\n",
    "def Crank_Nicholson_method(y0, T, N):\n",
    "    h = T / N\n",
    "    t = 0\n",
    "    y = y0\n",
    "    t_all = [t]\n",
    "    y_all = [y]\n",
    "    while t < T:\n",
    "        approx_y = y + h * (y - y**3)\n",
    "        y += 0.5* h * (y - y**3) + 0.5* h * (approx_y - approx_y**3)\n",
    "        t += h\n",
    "        t_all.append(t)\n",
    "        y_all.append(y)\n",
    "    return t_all, y_all\n",
    "\n",
    "def solution(y0, T, N):\n",
    "    t = np.linspace(0, T, N)\n",
    "    y = y0 / np.sqrt(y0**2 - (y0**2 - 1) * np.exp(-2*t))\n",
    "    return t, y"
   ]
  },
  {
   "cell_type": "code",
   "execution_count": 125,
   "metadata": {},
   "outputs": [
    {
     "data": {
      "text/plain": [
       "Text(0, 0.5, 'y')"
      ]
     },
     "execution_count": 125,
     "metadata": {},
     "output_type": "execute_result"
    },
    {
     "data": {
      "image/png": "[encoded data removed]",
      "text/plain": [
       "<Figure size 432x288 with 1 Axes>"
      ]
     },
     "metadata": {
      "needs_background": "light"
     },
     "output_type": "display_data"
    }
   ],
   "source": [
    "y0 = 0.1\n",
    "T = 10\n",
    "N = 20\n",
    "\n",
    "plt.figure()\n",
    "t, y = solution(y0, T, N)\n",
    "plt.plot(t,y, label = 'Exact solution')\n",
    "t, y = Euler_method(y0, T, N)\n",
    "plt.plot(t,y, label = 'Euler method')\n",
    "t, y = backward_Euler_method(y0, T, N)\n",
    "plt.plot(t,y, label = 'Backward Euler method')\n",
    "t, y = Crank_Nicholson_method(y0, T, N)\n",
    "plt.plot(t,y, label = 'Crank Nicholson method')\n",
    "plt.legend( loc=0)\n",
    "plt.xlabel('t')\n",
    "plt.ylabel('y')"
   ]
  }
 ],
 "metadata": {
  "kernelspec": {
   "display_name": "Python 3.9.7 ('base')",
   "language": "python",
   "name": "python3"
  },
  "language_info": {
   "codemirror_mode": {
    "name": "ipython",
    "version": 3
   },
   "file_extension": ".py",
   "mimetype": "text/x-python",
   "name": "python",
   "nbconvert_exporter": "python",
   "pygments_lexer": "ipython3",
   "version": "3.9.7"
  },
  "orig_nbformat": 4,
  "vscode": {
   "interpreter": {
    "hash": "644e1d14a76719232cbb3080fed54eb06c88bc7de058709a8a324bc48b928246"
   }
  }
 },
 "nbformat": 4,
 "nbformat_minor": 2
}
